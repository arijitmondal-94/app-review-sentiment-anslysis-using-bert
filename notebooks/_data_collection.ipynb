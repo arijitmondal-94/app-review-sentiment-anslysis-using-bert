{
 "metadata": {
  "language_info": {
   "codemirror_mode": {
    "name": "ipython",
    "version": 3
   },
   "file_extension": ".py",
   "mimetype": "text/x-python",
   "name": "python",
   "nbconvert_exporter": "python",
   "pygments_lexer": "ipython3",
   "version": "3.8.7-final"
  },
  "orig_nbformat": 2,
  "kernelspec": {
   "name": "python3",
   "display_name": "Python 3.8.7 64-bit ('sentiment-analysis-with-bert': pipenv)",
   "metadata": {
    "interpreter": {
     "hash": "4f897676079f4a4da8c980e634836ade289c9e963cf5bbc3c6425af3ef6c0e67"
    }
   }
  }
 },
 "nbformat": 4,
 "nbformat_minor": 2,
 "cells": [
  {
   "cell_type": "code",
   "execution_count": 7,
   "metadata": {},
   "outputs": [],
   "source": [
    "import json\n",
    "import pandas as pd\n",
    "\n",
    "import seaborn as sns\n",
    "import matplotlib.pyplot as plt\n",
    "\n",
    "from pygments import highlight\n",
    "from pygments.lexers import JsonLexer\n",
    "from pygments.formatters import TerminalFormatter \n",
    "from tqdm import tqdm\n",
    "\n",
    "from google_play_scraper import Sort, reviews, app\n",
    "\n",
    "%matplotlib inline\n",
    "%config InlineBackend.figure_format = 'retina'\n",
    "sns.set(style='whitegrid', palette='muted', font_scale=1.2)"
   ]
  },
  {
   "source": [
    "## Collecting app data"
   ],
   "cell_type": "markdown",
   "metadata": {}
  },
  {
   "cell_type": "code",
   "execution_count": 10,
   "metadata": {},
   "outputs": [],
   "source": [
    "app_packages = [\n",
    "    'com.anydo',\n",
    "    'com.todoist',\n",
    "    'com.ticktick.task',\n",
    "    'com.habitrpg.android.habitica',\n",
    "    'cc.forestapp',\n",
    "    'com.oristats.habitbull',\n",
    "    'com.levor.liferpgtasks',\n",
    "    'com.habitnow',\n",
    "    'com.microsoft.todos',\n",
    "    'prox.lab.calclock',\n",
    "    'com.artfulagenda.app',\n",
    "    'com.tasks.android',\n",
    "    'com.appgenix.bizcal',\n",
    "    'com.appxy.planner',\n",
    "    'com.android.chrome'\n",
    "]"
   ]
  },
  {
   "cell_type": "code",
   "execution_count": 12,
   "metadata": {},
   "outputs": [
    {
     "output_type": "stream",
     "name": "stderr",
     "text": [
      "100%|██████████| 14/14 [00:04<00:00,  3.14it/s]\n"
     ]
    }
   ],
   "source": [
    "app_infos = []\n",
    "\n",
    "for ap in tqdm(app_packages):\n",
    "    info = app(ap, lang='en', country='us')\n",
    "    del info['comments']\n",
    "    app_infos.append(info)"
   ]
  },
  {
   "cell_type": "code",
   "execution_count": 14,
   "metadata": {},
   "outputs": [
    {
     "output_type": "stream",
     "name": "stdout",
     "text": [
      "{\n  \u001b[94m\"adSupported\"\u001b[39;49;00m: \u001b[34mnull\u001b[39;49;00m,\n  \u001b[94m\"androidVersion\"\u001b[39;49;00m: \u001b[33m\"Varies\"\u001b[39;49;00m,\n  \u001b[94m\"androidVersionText\"\u001b[39;49;00m: \u001b[33m\"Varies with device\"\u001b[39;49;00m,\n  \u001b[94m\"appId\"\u001b[39;49;00m: \u001b[33m\"com.anydo\"\u001b[39;49;00m,\n  \u001b[94m\"containsAds\"\u001b[39;49;00m: \u001b[34mfalse\u001b[39;49;00m,\n  \u001b[94m\"contentRating\"\u001b[39;49;00m: \u001b[33m\"Everyone\"\u001b[39;49;00m,\n  \u001b[94m\"contentRatingDescription\"\u001b[39;49;00m: \u001b[34mnull\u001b[39;49;00m,\n  \u001b[94m\"currency\"\u001b[39;49;00m: \u001b[33m\"USD\"\u001b[39;49;00m,\n  \u001b[94m\"description\"\u001b[39;49;00m: \u001b[33m\"\\ud83e\\udd47 <b>\\\"#1 to do list app out there\\u201d</b> - WSJ\\r\\n\\ud83c\\udfc6 <b>Editor's Choice</b> by Google\\r\\n\\r\\nOver 30M people rely on Any.do to stay organized and get more done.\\r\\nIt's a simple to do list app with reminders, planner & calendar - all in one.\\r\\n\\r\\n<b>\\ud83e\\udd47 \\\"A MUST HAVE APP\\\" (Lifehacker, NYTimes, USA TODAY).</b>\\r\\n\\r\\nAny.do is a free to-do list, planner & calendar app for managing and organizing your daily tasks, to-do lists, notes, reminders, checklists, calendar events, grocery lists and more.\\r\\n\\r\\n\\ud83d\\udcc5 Organize your tasks & to-do list\\r\\n\\r\\n\\u2022 ADVANCED CALENDAR & DAILY PLANNER - Keep your to-do list and calendar events always at hand with our calendar widget. Any.do to-do list & planner support daily calendar view, 3-day Calendar view, Weekly calendar view & agenda view, with built-in reminders. Review and organize your calendar events and to do list side by side.\\r\\n\\r\\n\\u2022 SYNCS SEAMLESSLY - Keeps all your to do list, tasks, reminders, notes, calendar & agenda always in sync so you\\u2019ll never forget a thing. Sync your phone\\u2019s calendar, google calendar, Facebook events, outlook calendar or any other calendar so you don\\u2019t forget an important event.\\r\\n\\r\\n\\u2022 SET REMINDERS - One time reminders, recurring reminders, Location reminders & voice reminders. NEW! Easily create tasks and get reminders in WhatsApp.\\r\\n\\r\\n\\u2022 WORK TOGETHER - Share your to do list and assign tasks with your friends, family & colleagues from your task list to collaborate and get more done. \\r\\n\\r\\n---\\r\\n\\r\\nALL-IN-ONE PLANNER & CALENDAR APP FOR GETTING THINGS DONE\\r\\nCreate and set reminders with voice to your to do list. \\r\\nFor better task management flow we added a calendar integration to keep your agenda always up to date. \\r\\nFor better productivity, we added recurring reminders, location reminders, one-time reminder, sub-tasks, notes & file attachments. \\r\\nTo keep your to do list up to date, we\\u2019ve added a daily planner and focus mode.\\r\\n\\r\\nINTEGRATIONS\\r\\nAny.do To do list, Calendar, planner & Reminders Integrates with Google Calendar, Outlook, WhatsApp, Slack, Gmail, Google Tasks, Evernote, Trello, Wunderlist, Todoist, Zapier, Asana, Microsoft to-do, Salesforce, OneNote, Google Assistant, Amazon Alexa, Office 365, Exchange, Jira & More.\\r\\n\\r\\nTO DO LIST, CALENDAR, PLANNER & REMINDERS MADE SIMPLE\\r\\nDesigned to keep you on top of your to do list, tasks and calendar events with no hassle. With intuitive drag and drop of tasks, swiping to mark to-do's as complete, and shaking your device to remove completed from your to do list - you can stay organized and enjoy every minute of it.\\r\\n\\r\\nPOWERFUL TO DO LIST TASK MANAGEMENT\\r\\nAdd a to do list item straight from your email / Gmail / Outlook inbox by forwarding do@Any.do. Attach files from your computer, Dropbox, or Google Drive to your to- tasks.\\r\\n\\r\\nDAILY PLANNER & LIFE ORGANIZER\\r\\nAny.do is a to do list, a calendar, an inbox, a notepad, a checklist, task list, a board for post its or sticky notes, a task & project management tool, a reminder app, a daily planner, a family organizer, an agenda, a bill planner and overall the simplest productivity tool you will ever have. \\r\\n\\r\\nSHARE LISTS, ASSIGN & ORGANIZE TASKS\\r\\nTo plan & organize projects has never been easier. Now you can share lists between family members, assign tasks to each other, chat and much more. Any.do will help you and the people around you stay in-sync and get reminders so that you can focus on what matters, knowing you had a productive day and crossed off your to do list.\\r\\n\\r\\nGROCERY LIST & SHOPPING LIST\\r\\nAny.do task list, calendar, agenda, reminders & planner is also great for shopping lists at the grocery store. Simply create a list on Any.do, share it with your loved ones and see them adding their shopping items in real-time.\"\u001b[39;49;00m,\n  \u001b[94m\"descriptionHTML\"\u001b[39;49;00m: \u001b[33m\"\\ud83e\\udd47 <b>&quot;#1 to do list app out there\\u201d</b> - WSJ<br>\\ud83c\\udfc6 <b>Editor&#39;s Choice</b> by Google<br><br>Over 30M people rely on Any.do to stay organized and get more done.<br>It&#39;s a simple to do list app with reminders, planner &amp; calendar - all in one.<br><br><b>\\ud83e\\udd47 &quot;A MUST HAVE APP&quot; (Lifehacker, NYTimes, USA TODAY).</b><br><br>Any.do is a free to-do list, planner &amp; calendar app for managing and organizing your daily tasks, to-do lists, notes, reminders, checklists, calendar events, grocery lists and more.<br><br>\\ud83d\\udcc5 Organize your tasks &amp; to-do list<br><br>\\u2022 ADVANCED CALENDAR &amp; DAILY PLANNER - Keep your to-do list and calendar events always at hand with our calendar widget. Any.do to-do list &amp; planner support daily calendar view, 3-day Calendar view, Weekly calendar view &amp; agenda view, with built-in reminders. Review and organize your calendar events and to do list side by side.<br><br>\\u2022 SYNCS SEAMLESSLY - Keeps all your to do list, tasks, reminders, notes, calendar &amp; agenda always in sync so you\\u2019ll never forget a thing. Sync your phone\\u2019s calendar, google calendar, Facebook events, outlook calendar or any other calendar so you don\\u2019t forget an important event.<br><br>\\u2022 SET REMINDERS - One time reminders, recurring reminders, Location reminders &amp; voice reminders. NEW! Easily create tasks and get reminders in WhatsApp.<br><br>\\u2022 WORK TOGETHER - Share your to do list and assign tasks with your friends, family &amp; colleagues from your task list to collaborate and get more done. <br><br>---<br><br>ALL-IN-ONE PLANNER &amp; CALENDAR APP FOR GETTING THINGS DONE<br>Create and set reminders with voice to your to do list. <br>For better task management flow we added a calendar integration to keep your agenda always up to date. <br>For better productivity, we added recurring reminders, location reminders, one-time reminder, sub-tasks, notes &amp; file attachments. <br>To keep your to do list up to date, we\\u2019ve added a daily planner and focus mode.<br><br>INTEGRATIONS<br>Any.do To do list, Calendar, planner &amp; Reminders Integrates with Google Calendar, Outlook, WhatsApp, Slack, Gmail, Google Tasks, Evernote, Trello, Wunderlist, Todoist, Zapier, Asana, Microsoft to-do, Salesforce, OneNote, Google Assistant, Amazon Alexa, Office 365, Exchange, Jira &amp; More.<br><br>TO DO LIST, CALENDAR, PLANNER &amp; REMINDERS MADE SIMPLE<br>Designed to keep you on top of your to do list, tasks and calendar events with no hassle. With intuitive drag and drop of tasks, swiping to mark to-do&#39;s as complete, and shaking your device to remove completed from your to do list - you can stay organized and enjoy every minute of it.<br><br>POWERFUL TO DO LIST TASK MANAGEMENT<br>Add a to do list item straight from your email / Gmail / Outlook inbox by forwarding do@Any.do. Attach files from your computer, Dropbox, or Google Drive to your to- tasks.<br><br>DAILY PLANNER &amp; LIFE ORGANIZER<br>Any.do is a to do list, a calendar, an inbox, a notepad, a checklist, task list, a board for post its or sticky notes, a task &amp; project management tool, a reminder app, a daily planner, a family organizer, an agenda, a bill planner and overall the simplest productivity tool you will ever have. <br><br>SHARE LISTS, ASSIGN &amp; ORGANIZE TASKS<br>To plan &amp; organize projects has never been easier. Now you can share lists between family members, assign tasks to each other, chat and much more. Any.do will help you and the people around you stay in-sync and get reminders so that you can focus on what matters, knowing you had a productive day and crossed off your to do list.<br><br>GROCERY LIST &amp; SHOPPING LIST<br>Any.do task list, calendar, agenda, reminders &amp; planner is also great for shopping lists at the grocery store. Simply create a list on Any.do, share it with your loved ones and see them adding their shopping items in real-time.\"\u001b[39;49;00m,\n  \u001b[94m\"developer\"\u001b[39;49;00m: \u001b[33m\"Any.do To-do list & Calendar\"\u001b[39;49;00m,\n  \u001b[94m\"developerAddress\"\u001b[39;49;00m: \u001b[33m\"Any.do Inc.\\n\\n6  Agripas Street, Tel Aviv\\n6249106 ISRAEL\"\u001b[39;49;00m,\n  \u001b[94m\"developerEmail\"\u001b[39;49;00m: \u001b[33m\"feedback+androidtodo@any.do\"\u001b[39;49;00m,\n  \u001b[94m\"developerId\"\u001b[39;49;00m: \u001b[33m\"5304780265295461149\"\u001b[39;49;00m,\n  \u001b[94m\"developerInternalID\"\u001b[39;49;00m: \u001b[33m\"5304780265295461149\"\u001b[39;49;00m,\n  \u001b[94m\"developerWebsite\"\u001b[39;49;00m: \u001b[33m\"https://www.any.do\"\u001b[39;49;00m,\n  \u001b[94m\"editorsChoice\"\u001b[39;49;00m: \u001b[34mfalse\u001b[39;49;00m,\n  \u001b[94m\"free\"\u001b[39;49;00m: \u001b[34mtrue\u001b[39;49;00m,\n  \u001b[94m\"genre\"\u001b[39;49;00m: \u001b[33m\"Productivity\"\u001b[39;49;00m,\n  \u001b[94m\"genreId\"\u001b[39;49;00m: \u001b[33m\"PRODUCTIVITY\"\u001b[39;49;00m,\n  \u001b[94m\"headerImage\"\u001b[39;49;00m: \u001b[33m\"https://play-lh.googleusercontent.com/umhDP6phYKbuh-WzrSu6_bgFmAWP4qf9WsktFVBWDCMmkIwArJmyQKka7A1VcjFoEQc\"\u001b[39;49;00m,\n  \u001b[94m\"histogram\"\u001b[39;49;00m: [\n    \u001b[34m33055\u001b[39;49;00m,\n    \u001b[34m11068\u001b[39;49;00m,\n    \u001b[34m18270\u001b[39;49;00m,\n    \u001b[34m34643\u001b[39;49;00m,\n    \u001b[34m267437\u001b[39;49;00m\n  ],\n  \u001b[94m\"icon\"\u001b[39;49;00m: \u001b[33m\"https://play-lh.googleusercontent.com/zgOLUXCHkF91H8xuMTMLT17smwgLPwSBjUlKVWF-cZRFjlv-Uvtman7DiHEii54fbEE\"\u001b[39;49;00m,\n  \u001b[94m\"inAppProductPrice\"\u001b[39;49;00m: \u001b[33m\"$0.99 - $83.88 per item\"\u001b[39;49;00m,\n  \u001b[94m\"installs\"\u001b[39;49;00m: \u001b[33m\"10,000,000+\"\u001b[39;49;00m,\n  \u001b[94m\"minInstalls\"\u001b[39;49;00m: \u001b[34m10000000\u001b[39;49;00m,\n  \u001b[94m\"offersIAP\"\u001b[39;49;00m: \u001b[34mtrue\u001b[39;49;00m,\n  \u001b[94m\"originalPrice\"\u001b[39;49;00m: \u001b[34mnull\u001b[39;49;00m,\n  \u001b[94m\"price\"\u001b[39;49;00m: \u001b[34m0\u001b[39;49;00m,\n  \u001b[94m\"privacyPolicy\"\u001b[39;49;00m: \u001b[33m\"https://www.any.do/privacy\"\u001b[39;49;00m,\n  \u001b[94m\"ratings\"\u001b[39;49;00m: \u001b[34m364473\u001b[39;49;00m,\n  \u001b[94m\"recentChanges\"\u001b[39;49;00m: \u001b[33m\"- Dark mode is finally here, hooray! \\r\\n- Recurring reminders issue was fixed\\r\\n- We added a save button to the task details screen\\r\\n- Filter your tasks for today, the next 7 days, and all tasks\\r\\n- Universal search with tasks, events, sub-tasks, notes, lists & tags\\r\\n- Keep track of how many tasks you\\u2019ve completed with Any.do\\r\\n- Upgraded sorting by time (the 2nd most requested feature!)\\r\\n- New and stunning reminders & snoozing redesign\\r\\n- Import tasks into Any.do from your clipboard\"\u001b[39;49;00m,\n  \u001b[94m\"recentChangesHTML\"\u001b[39;49;00m: \u001b[33m\"- Dark mode is finally here, hooray! <br>- Recurring reminders issue was fixed<br>- We added a save button to the task details screen<br>- Filter your tasks for today, the next 7 days, and all tasks<br>- Universal search with tasks, events, sub-tasks, notes, lists &amp; tags<br>- Keep track of how many tasks you\\u2019ve completed with Any.do<br>- Upgraded sorting by time (the 2nd most requested feature!)<br>- New and stunning reminders &amp; snoozing redesign<br>- Import tasks into Any.do from your clipboard\"\u001b[39;49;00m,\n  \u001b[94m\"released\"\u001b[39;49;00m: \u001b[33m\"Nov 10, 2011\"\u001b[39;49;00m,\n  \u001b[94m\"reviews\"\u001b[39;49;00m: \u001b[34m129051\u001b[39;49;00m,\n  \u001b[94m\"sale\"\u001b[39;49;00m: \u001b[34mfalse\u001b[39;49;00m,\n  \u001b[94m\"saleText\"\u001b[39;49;00m: \u001b[34mnull\u001b[39;49;00m,\n  \u001b[94m\"saleTime\"\u001b[39;49;00m: \u001b[34mnull\u001b[39;49;00m,\n  \u001b[94m\"score\"\u001b[39;49;00m: \u001b[34m4.3508196\u001b[39;49;00m,\n  \u001b[94m\"screenshots\"\u001b[39;49;00m: [\n    \u001b[33m\"https://play-lh.googleusercontent.com/cGoZDZRRpHMKadBQeLaRwGQmKvTv3_nNkWKZkwT6VOBBEU-OvAfBX6XY3WD3wwy2lY0\"\u001b[39;49;00m,\n    \u001b[33m\"https://play-lh.googleusercontent.com/49E2H7BYGrJkbH1dx-eQBgZGpgme8Wcfh8crvMyLSbCNZHbY8AI3YpR1fm1trpTtXoF5\"\u001b[39;49;00m,\n    \u001b[33m\"https://play-lh.googleusercontent.com/rwql50U-W5Vn34MKy0rrzVlZwSF8Xj-utk7ymJAa4vCKgxUqyV6YT1YrduGkv01bug\"\u001b[39;49;00m,\n    \u001b[33m\"https://play-lh.googleusercontent.com/zN8pIcOhwIuZ2sqeaWQkC6-iwVMSMWnY4QZAtKEgu9rFV76BASXxX6_XZcF3em3yBSc3\"\u001b[39;49;00m,\n    \u001b[33m\"https://play-lh.googleusercontent.com/x7WDgU_nqe_82ehBrRYyP6OdCFgL5lCHVVaEXAvP3J7mhEaJBdo3NHTkhvoZZ9P5l2OH\"\u001b[39;49;00m,\n    \u001b[33m\"https://play-lh.googleusercontent.com/cZBjFbEnGmqom0VDI5GBwe-KWZetnBxS4L-lumWNnFnq5tIVAAak6NqdvJaQp5_8CGg\"\u001b[39;49;00m,\n    \u001b[33m\"https://play-lh.googleusercontent.com/OCmp0hmEVO8NUFhSRWe7Zv8WcxdMhKR6Lu5U6fkr8SCL2Dibakr-dQog07R_Li4MRMMq\"\u001b[39;49;00m,\n    \u001b[33m\"https://play-lh.googleusercontent.com/4b_0LOovdrOVBowvua4loQzycriBSMubOQN3HZCPGZUUglo2VzSGb2n0368RMWRJN0A\"\u001b[39;49;00m,\n    \u001b[33m\"https://play-lh.googleusercontent.com/ndr_2Hm3vaWzgY4-mUYqFwsw49KfovhkN5nbFpPG4HUg9fZjXQjfa3TYf-OYNB32SUDB\"\u001b[39;49;00m,\n    \u001b[33m\"https://play-lh.googleusercontent.com/UZULO6XshlbT5o6pjksSqrhJ_g-pR-wJBYXq2h1Yoo6pDFhKFjyivnjCavGfGKIWCw\"\u001b[39;49;00m,\n    \u001b[33m\"https://play-lh.googleusercontent.com/zPnaXYbEo_LEMhgfzW_O1nv-IccJa1xy26vWIbpSrChGaL-KzINBLk3GBs48v7j-fg\"\u001b[39;49;00m,\n    \u001b[33m\"https://play-lh.googleusercontent.com/P_bSjsp8OAcqKF903GtrpamILuJhAJB-9OO5QkYnEUHoxfB7lWtbBK2ZVvnXJ8Y0SFI\"\u001b[39;49;00m,\n    \u001b[33m\"https://play-lh.googleusercontent.com/9Jv2TQJ8nmEVuluW3JQ5ELDWeX_IuHIZX3NO6rFUTviCCKtkSVT8tCN208Zzq0Qgce-y\"\u001b[39;49;00m,\n    \u001b[33m\"https://play-lh.googleusercontent.com/nnY_hLmuLBwiOBfIokKVg1v2vXe3WngVaKAejPe0Na1yXbtEGNhCf_a6sstmWZkbFyQ\"\u001b[39;49;00m,\n    \u001b[33m\"https://play-lh.googleusercontent.com/5LoWLPyekVCtbxaPH_PUe9Q0Eblt7EIXXff6pnnhohkPhzG-FBdTqK7QBhCDA9jJx_w\"\u001b[39;49;00m,\n    \u001b[33m\"https://play-lh.googleusercontent.com/Hv5TfdnmXbJ7_mQZdiXgGlZ6XbDj5kN7lwnj_Cg10ym81PW46PRKT4nDfJjnpNIvwVA\"\u001b[39;49;00m,\n    \u001b[33m\"https://play-lh.googleusercontent.com/gaLzc8DFPM_JlIyRv96gnB9TrcAkd6H80EKe2-UOoR6m7WBGvCBZ9tv5CEOKu8yAX2IJ\"\u001b[39;49;00m,\n    \u001b[33m\"https://play-lh.googleusercontent.com/fNde6nXNd_AmYM9UZRROu1WBkoKOiSGJAloM_jL2NCk08-ovo6OX34cZu2WeiQ7LPiM\"\u001b[39;49;00m,\n    \u001b[33m\"https://play-lh.googleusercontent.com/x1s1I6gwi4oxMpoejQfccfLFKshCxj1-6ebTpg8JamQxzQtKDi7e0N_Hc_Hw3i01QUs\"\u001b[39;49;00m,\n    \u001b[33m\"https://play-lh.googleusercontent.com/b7FN0ez09iJO0TMlIwbNO8AWnjN7bTLhctZWe1DvSu30kqoZdkgo_9R_QjAf0_YcDnU\"\u001b[39;49;00m,\n    \u001b[33m\"https://play-lh.googleusercontent.com/2hLQGgdn14CfEngt9MCgxAqJqz32IFAtaTzooiI7cG_VUVjVJzIasBEpadUYrg-1ZJ8\"\u001b[39;49;00m,\n    \u001b[33m\"https://play-lh.googleusercontent.com/OVfp00Cb60TbgoIFoDo2aZhfCWO4zzvTyl07IH2wHNuf9mgXA1EV1y7EwhMJhPtmFzs\"\u001b[39;49;00m\n  ],\n  \u001b[94m\"size\"\u001b[39;49;00m: \u001b[33m\"Varies with device\"\u001b[39;49;00m,\n  \u001b[94m\"summary\"\u001b[39;49;00m: \u001b[33m\"To-do list & Tasks \\u2705 Calendar  \\ud83d\\udcc5\\u05bf  Reminder \\ud83d\\udd14 Checklist \\ud83d\\udcdd Agenda - All-in-one\"\u001b[39;49;00m,\n  \u001b[94m\"summaryHTML\"\u001b[39;49;00m: \u001b[33m\"To-do list &amp; Tasks \\u2705 Calendar  \\ud83d\\udcc5\\u05bf  Reminder \\ud83d\\udd14 Checklist \\ud83d\\udcdd Agenda - All-in-one\"\u001b[39;49;00m,\n  \u001b[94m\"title\"\u001b[39;49;00m: \u001b[33m\"Any.do: To do list, Task, Reminders & Planner\"\u001b[39;49;00m,\n  \u001b[94m\"updated\"\u001b[39;49;00m: \u001b[34m1614496999\u001b[39;49;00m,\n  \u001b[94m\"url\"\u001b[39;49;00m: \u001b[33m\"https://play.google.com/store/apps/details?id=com.anydo&hl=en&gl=us\"\u001b[39;49;00m,\n  \u001b[94m\"version\"\u001b[39;49;00m: \u001b[33m\"Varies with device\"\u001b[39;49;00m,\n  \u001b[94m\"video\"\u001b[39;49;00m: \u001b[34mnull\u001b[39;49;00m,\n  \u001b[94m\"videoImage\"\u001b[39;49;00m: \u001b[34mnull\u001b[39;49;00m\n}\n\n"
     ]
    }
   ],
   "source": [
    "def print_json(json_object):\n",
    "    json_str = json.dumps(\n",
    "        json_object,\n",
    "        indent=2,\n",
    "        sort_keys=True,\n",
    "        default=str\n",
    "    )\n",
    "    print(highlight(json_str, JsonLexer(), TerminalFormatter()))\n",
    "print_json(app_infos[0])"
   ]
  },
  {
   "cell_type": "code",
   "execution_count": 19,
   "metadata": {},
   "outputs": [],
   "source": [
    "df_app_infos = pd.DataFrame(app_infos)\n",
    "df_app_infos.to_csv('./data/app_data.csv', index=None, header=True)"
   ]
  },
  {
   "source": [
    "## Scraping app data"
   ],
   "cell_type": "markdown",
   "metadata": {}
  },
  {
   "cell_type": "code",
   "execution_count": 27,
   "metadata": {},
   "outputs": [
    {
     "output_type": "stream",
     "name": "stderr",
     "text": [
      "100%|██████████| 14/14 [01:30<00:00,  6.47s/it]\n"
     ]
    }
   ],
   "source": [
    "app_reviews = []\n",
    "\n",
    "for app in tqdm(app_packages):\n",
    "    for score in range(1, 6):\n",
    "        for sort_order in [Sort.MOST_RELEVANT, Sort.NEWEST]:\n",
    "            rvs = reviews(\n",
    "                app, \n",
    "                lang='en',\n",
    "                country='us',\n",
    "                sort=sort_order,\n",
    "                count=200 if score == 3 else 100,\n",
    "                filter_score_with=score\n",
    "            )[0]\n",
    "\n",
    "            for r in rvs:\n",
    "                r['sortOrder'] = 'most_relevant' if sort_order == Sort.MOST_RELEVANT else 'newest'\n",
    "                r['appId'] = app\n",
    "            app_reviews.extend(rvs)"
   ]
  },
  {
   "cell_type": "code",
   "execution_count": 30,
   "metadata": {},
   "outputs": [
    {
     "output_type": "execute_result",
     "data": {
      "text/plain": [
       "                                            reviewId       userName  \\\n",
       "0  gp:AOqpTOEdg6yUOvcZHEm6vmnCD7vXQW7wuauIJaKhKtw...   Uchihasocksy   \n",
       "1  gp:AOqpTOHTeNGxl9Zhlz-BM6ybraEsnVg0BLDubF8E_fQ...      kelvin ho   \n",
       "2  gp:AOqpTOH5OkwJH-nRT4nopD_JNTIYpWs1xWzOsFE-pn7...  Charles Green   \n",
       "3  gp:AOqpTOG4LKg25ejg1Hw1TWs6_gIXhpwJRZZpXssMygx...       Andi Tan   \n",
       "4  gp:AOqpTOGQ7NShvSVr9Vqz67MSeTN_3rkBuYtQRtsyAo5...    Drew Dayman   \n",
       "\n",
       "                                           userImage  \\\n",
       "0  https://play-lh.googleusercontent.com/-jhjI7vI...   \n",
       "1  https://play-lh.googleusercontent.com/-rSnBD4Y...   \n",
       "2  https://play-lh.googleusercontent.com/a-/AOh14...   \n",
       "3  https://play-lh.googleusercontent.com/-vozop-l...   \n",
       "4  https://play-lh.googleusercontent.com/a-/AOh14...   \n",
       "\n",
       "                                             content  score  thumbsUpCount  \\\n",
       "0  Was simply looking for a widget that could syn...      1              0   \n",
       "1  Very very bad experience with the management! ...      1              5   \n",
       "2  Ugh! After years of using this app, I am so ve...      1             10   \n",
       "3  I'm a new user. I think this app's great. I tr...      1             13   \n",
       "4  Bought it to use with Alexa. After multiple at...      1              1   \n",
       "\n",
       "  reviewCreatedVersion                  at  \\\n",
       "0             5.10.0.8 2021-03-05 00:37:04   \n",
       "1             5.10.0.8 2021-02-26 04:17:49   \n",
       "2              5.9.0.2 2021-02-17 19:10:03   \n",
       "3              5.9.0.2 2021-02-07 11:54:54   \n",
       "4              5.9.0.2 2021-02-12 20:35:18   \n",
       "\n",
       "                                        replyContent           repliedAt  \\\n",
       "0  Any.do’s Calendar Integration syncs events to ... 2021-03-07 10:03:08   \n",
       "1  Hi Kelvin, we've checked our records and could... 2021-02-28 09:36:51   \n",
       "2  From checking our records, the issue you've re... 2021-02-18 11:22:00   \n",
       "3  The Quick-add bar on the device's Notification... 2021-02-09 09:19:18   \n",
       "4                                               None                 NaT   \n",
       "\n",
       "       sortOrder      appId  \n",
       "0  most_relevant  com.anydo  \n",
       "1  most_relevant  com.anydo  \n",
       "2  most_relevant  com.anydo  \n",
       "3  most_relevant  com.anydo  \n",
       "4  most_relevant  com.anydo  "
      ],
      "text/html": "<div>\n<style scoped>\n    .dataframe tbody tr th:only-of-type {\n        vertical-align: middle;\n    }\n\n    .dataframe tbody tr th {\n        vertical-align: top;\n    }\n\n    .dataframe thead th {\n        text-align: right;\n    }\n</style>\n<table border=\"1\" class=\"dataframe\">\n  <thead>\n    <tr style=\"text-align: right;\">\n      <th></th>\n      <th>reviewId</th>\n      <th>userName</th>\n      <th>userImage</th>\n      <th>content</th>\n      <th>score</th>\n      <th>thumbsUpCount</th>\n      <th>reviewCreatedVersion</th>\n      <th>at</th>\n      <th>replyContent</th>\n      <th>repliedAt</th>\n      <th>sortOrder</th>\n      <th>appId</th>\n    </tr>\n  </thead>\n  <tbody>\n    <tr>\n      <th>0</th>\n      <td>gp:AOqpTOEdg6yUOvcZHEm6vmnCD7vXQW7wuauIJaKhKtw...</td>\n      <td>Uchihasocksy</td>\n      <td>https://play-lh.googleusercontent.com/-jhjI7vI...</td>\n      <td>Was simply looking for a widget that could syn...</td>\n      <td>1</td>\n      <td>0</td>\n      <td>5.10.0.8</td>\n      <td>2021-03-05 00:37:04</td>\n      <td>Any.do’s Calendar Integration syncs events to ...</td>\n      <td>2021-03-07 10:03:08</td>\n      <td>most_relevant</td>\n      <td>com.anydo</td>\n    </tr>\n    <tr>\n      <th>1</th>\n      <td>gp:AOqpTOHTeNGxl9Zhlz-BM6ybraEsnVg0BLDubF8E_fQ...</td>\n      <td>kelvin ho</td>\n      <td>https://play-lh.googleusercontent.com/-rSnBD4Y...</td>\n      <td>Very very bad experience with the management! ...</td>\n      <td>1</td>\n      <td>5</td>\n      <td>5.10.0.8</td>\n      <td>2021-02-26 04:17:49</td>\n      <td>Hi Kelvin, we've checked our records and could...</td>\n      <td>2021-02-28 09:36:51</td>\n      <td>most_relevant</td>\n      <td>com.anydo</td>\n    </tr>\n    <tr>\n      <th>2</th>\n      <td>gp:AOqpTOH5OkwJH-nRT4nopD_JNTIYpWs1xWzOsFE-pn7...</td>\n      <td>Charles Green</td>\n      <td>https://play-lh.googleusercontent.com/a-/AOh14...</td>\n      <td>Ugh! After years of using this app, I am so ve...</td>\n      <td>1</td>\n      <td>10</td>\n      <td>5.9.0.2</td>\n      <td>2021-02-17 19:10:03</td>\n      <td>From checking our records, the issue you've re...</td>\n      <td>2021-02-18 11:22:00</td>\n      <td>most_relevant</td>\n      <td>com.anydo</td>\n    </tr>\n    <tr>\n      <th>3</th>\n      <td>gp:AOqpTOG4LKg25ejg1Hw1TWs6_gIXhpwJRZZpXssMygx...</td>\n      <td>Andi Tan</td>\n      <td>https://play-lh.googleusercontent.com/-vozop-l...</td>\n      <td>I'm a new user. I think this app's great. I tr...</td>\n      <td>1</td>\n      <td>13</td>\n      <td>5.9.0.2</td>\n      <td>2021-02-07 11:54:54</td>\n      <td>The Quick-add bar on the device's Notification...</td>\n      <td>2021-02-09 09:19:18</td>\n      <td>most_relevant</td>\n      <td>com.anydo</td>\n    </tr>\n    <tr>\n      <th>4</th>\n      <td>gp:AOqpTOGQ7NShvSVr9Vqz67MSeTN_3rkBuYtQRtsyAo5...</td>\n      <td>Drew Dayman</td>\n      <td>https://play-lh.googleusercontent.com/a-/AOh14...</td>\n      <td>Bought it to use with Alexa. After multiple at...</td>\n      <td>1</td>\n      <td>1</td>\n      <td>5.9.0.2</td>\n      <td>2021-02-12 20:35:18</td>\n      <td>None</td>\n      <td>NaT</td>\n      <td>most_relevant</td>\n      <td>com.anydo</td>\n    </tr>\n  </tbody>\n</table>\n</div>"
     },
     "metadata": {},
     "execution_count": 30
    }
   ],
   "source": [
    "df_app_reviews = pd.DataFrame(app_reviews)\n",
    "df_app_reviews.head()"
   ]
  },
  {
   "cell_type": "code",
   "execution_count": 31,
   "metadata": {},
   "outputs": [],
   "source": [
    "df_app_reviews.to_csv('./data/app_review.csv', index=None, header=True)"
   ]
  },
  {
   "cell_type": "code",
   "execution_count": null,
   "metadata": {},
   "outputs": [],
   "source": []
  }
 ]
}